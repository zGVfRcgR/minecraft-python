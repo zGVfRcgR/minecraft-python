{
 "cells": [
  {
   "cell_type": "code",
   "execution_count": 4,
   "id": "4adc9482-8938-457a-827f-e2acc4a8a792",
   "metadata": {},
   "outputs": [
    {
     "name": "stdout",
     "output_type": "stream",
     "text": [
      "✅ 接続成功！\n"
     ]
    }
   ],
   "source": [
    "import socket\n",
    "\n",
    "try:\n",
    "    sock = socket.create_connection((\"minecraft\", 4711), timeout=5)\n",
    "    print(\"✅ 接続成功！\")\n",
    "    sock.close()\n",
    "except Exception as e:\n",
    "    print(\"❌ 接続失敗:\", e)\n"
   ]
  },
  {
   "cell_type": "code",
   "execution_count": 1,
   "id": "fcff1470-a2bc-4b0d-a24e-b80d2308b3f8",
   "metadata": {},
   "outputs": [],
   "source": [
    "import sys\n",
    "import os\n",
    "\n",
    "# ノートブックの親ディレクトリをパスに追加\n",
    "sys.path.append(os.path.abspath(\"..\"))\n",
    "\n",
    "# mcpi をインポート\n",
    "from mcpi.minecraft import Minecraft\n",
    "\n",
    "# 接続テスト\n",
    "mc = Minecraft.create(\"minecraft\", 4711)\n",
    "mc.postToChat(\"Hello Minecraft!\")\n"
   ]
  },
  {
   "cell_type": "code",
   "execution_count": null,
   "id": "67ffb512-35bb-49ec-b8b2-ad70cc61a3b6",
   "metadata": {},
   "outputs": [],
   "source": []
  },
  {
   "cell_type": "code",
   "execution_count": null,
   "id": "d92c9517-1d1b-44cf-9008-3082ddbb4585",
   "metadata": {},
   "outputs": [],
   "source": []
  }
 ],
 "metadata": {
  "kernelspec": {
   "display_name": "Python 3 (ipykernel)",
   "language": "python",
   "name": "python3"
  },
  "language_info": {
   "codemirror_mode": {
    "name": "ipython",
    "version": 3
   },
   "file_extension": ".py",
   "mimetype": "text/x-python",
   "name": "python",
   "nbconvert_exporter": "python",
   "pygments_lexer": "ipython3",
   "version": "3.11.6"
  }
 },
 "nbformat": 4,
 "nbformat_minor": 5
}
