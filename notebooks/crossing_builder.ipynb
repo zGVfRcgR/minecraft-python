from mcpi.minecraft import Minecraft
from mcpi import block

mc = Minecraft.create("minecraft-server", 4711)

x, y, z = mc.player.getTilePos()

# 道路（石ブロック）
for dx in range(-3, 4):
    for dz in range(-10, 11):
        mc.setBlock(x+dx, y, z+dz, block.STONE.id)

# レール（真ん中に3列）
for dx in [-1, 0, 1]:
    for dz in range(-10, 11):
        mc.setBlock(x+dx, y+1, z+dz, block.RAIL.id)

# 遮断機（左右に黄色黒ブロック）
for side in [-4, 4]:
    for dy in range(3):
        mc.setBlock(x+side, y+dy, z, block.WOOL.id, 14 if dy % 2 == 0 else 4)  # 赤と黄の交互

# 信号灯（レッドストーンランプ）
for side in [-5, 5]:
    mc.setBlock(x+side, y+3, z, block.REDSTONE_LAMP_OFF.id)